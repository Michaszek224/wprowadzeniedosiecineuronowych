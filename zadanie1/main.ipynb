{
 "cells": [
  {
   "cell_type": "code",
   "execution_count": 42,
   "id": "45361aba",
   "metadata": {},
   "outputs": [],
   "source": [
    "import pandas as pd\n",
    "import numpy as np\n",
    "import matplotlib.pyplot as plt"
   ]
  },
  {
   "cell_type": "code",
   "execution_count": 43,
   "id": "a84e8fc5",
   "metadata": {},
   "outputs": [],
   "source": [
    "def obliczanie_entropii(S):\n",
    "    wystapienia_klasa = np.bincount(S)\n",
    "    prawdopodobienstwo = wystapienia_klasa / len(S)\n",
    "    entropia = 0\n",
    "    for p in prawdopodobienstwo:\n",
    "        if p > 0:\n",
    "            entropia -= p * np.log2(p)\n",
    "    return entropia"
   ]
  },
  {
   "cell_type": "code",
   "execution_count": 44,
   "id": "54732ff1",
   "metadata": {},
   "outputs": [],
   "source": [
    "def obliczanie_entropii_warunkowej(S, A):\n",
    "    wartosci_A, indeksy = np.unique(A, return_inverse=True)\n",
    "    entropia = 0\n",
    "    \n",
    "    for i in range(len(wartosci_A)):\n",
    "        S_j = np.array(S)[indeksy == i]\n",
    "        waga = len(S_j) / len(S)\n",
    "        entropia += waga * obliczanie_entropii(S_j)\n",
    "    \n",
    "    return entropia\n",
    "    "
   ]
  },
  {
   "cell_type": "code",
   "execution_count": 45,
   "id": "a2c4ea92",
   "metadata": {},
   "outputs": [],
   "source": [
    "def obliczanie_gain(S,A):\n",
    "    return obliczanie_entropii(S) - obliczanie_entropii_warunkowej(S,A)"
   ]
  },
  {
   "cell_type": "code",
   "execution_count": 46,
   "id": "dc30fdbd",
   "metadata": {},
   "outputs": [],
   "source": [
    "def obliczanie_intrinsic_information(S,A):\n",
    "    wartosci_A, liczebnosci = np.unique(A, return_counts=True)\n",
    "    proporcje = liczebnosci / len(S)\n",
    "    \n",
    "    wartosc = 0\n",
    "    for p in proporcje:\n",
    "        if p > 0:\n",
    "            wartosc -= p * np.log2(p)\n",
    "    return wartosc"
   ]
  },
  {
   "cell_type": "code",
   "execution_count": 47,
   "id": "645c0248",
   "metadata": {},
   "outputs": [],
   "source": [
    "\n",
    "def obliczanie_gain_ratio(S,A):\n",
    "    return obliczanie_gain(S,A) / obliczanie_intrinsic_information(S,A)"
   ]
  },
  {
   "cell_type": "code",
   "execution_count": 48,
   "id": "d4753399",
   "metadata": {},
   "outputs": [],
   "source": [
    "def formatuj_info_liscia(dane_liscia, class_labels):\n",
    "    \"\"\"Pomocnicza funkcja do formatowania etykiety liścia.\"\"\"\n",
    "    liczba_przykladow, rozklad_klas = dane_liscia\n",
    "    info_klas = \", \".join(f\"{klasa}: {liczba}\" for klasa, liczba in rozklad_klas.items())\n",
    "    return f\"LIŚĆ: [{liczba_przykladow} przykładów, {info_klas}]\""
   ]
  },
  {
   "cell_type": "code",
   "execution_count": null,
   "id": "0cb8657b",
   "metadata": {},
   "outputs": [],
   "source": [
    "def buduj_drzewo(df, target_name, features, class_labels):\n",
    "    \"\"\"Rekurencyjnie buduje drzewo decyzyjne.\"\"\"\n",
    "    \n",
    "    # --- Warunki stopu (tworzenie liścia) ---\n",
    "    \n",
    "    # 1. Jeśli wszystkie przykłady należą do tej samej klasy\n",
    "    if len(df[target_name].unique()) == 1:\n",
    "        class_name = class_labels[df[target_name].iloc[0]]\n",
    "        return (len(df), {class_name: len(df)})\n",
    "\n",
    "    # 2. Jeśli nie ma już cech do podziału\n",
    "    if not features:\n",
    "        majority_class_idx = df[target_name].mode()[0]\n",
    "        class_name = class_labels[majority_class_idx]\n",
    "        counts = df[target_name].apply(lambda x: class_labels[x]).value_counts().to_dict()\n",
    "        return (len(df), counts)\n",
    "\n",
    "    # --- Krok rekurencyjny (tworzenie węzła) ---\n",
    "    \n",
    "    # Znajdź najlepszą cechę do podziału\n",
    "    best_feature = znajdz_najlepszy_podzial(df, target_name, features)\n",
    "    \n",
    "    # Jeśli żadna cecha nie daje przyrostu informacji, stwórz liść\n",
    "    if best_feature is None:\n",
    "        counts = df[target_name].apply(lambda x: class_labels[x]).value_counts().to_dict()\n",
    "        return (len(df), counts)\n",
    "        \n",
    "    # Stwórz nowy węzeł drzewa\n",
    "    tree = {}\n",
    "    \n",
    "    # Zaktualizuj listę cech dla kolejnych wywołań\n",
    "    remaining_features = [f for f in features if f != best_feature]\n",
    "    \n",
    "    # Dla każdej unikalnej wartości najlepszej cechy, stwórz gałąź\n",
    "    for value in df[best_feature].unique():\n",
    "        sub_df = df[df[best_feature] == value]\n",
    "        branch_name = f\"{best_feature} == {value}\"\n",
    "        \n",
    "        # Wywołaj rekurencyjnie budowę poddrzewa\n",
    "        subtree = buduj_drzewo(sub_df, target_name, remaining_features, class_labels)\n",
    "        tree[branch_name] = subtree\n",
    "        \n",
    "    return tree"
   ]
  },
  {
   "cell_type": "code",
   "execution_count": 49,
   "id": "31c1ff69",
   "metadata": {},
   "outputs": [],
   "source": [
    "def rysuj_wezel(wezel, class_labels, prefix=\"\"):\n",
    "    \"\"\"Rekurencyjna funkcja do rysowania drzewa.\"\"\"\n",
    "    galaz_items = list(wezel.items())\n",
    "    for i, (warunek, poddrzewo) in enumerate(galaz_items):\n",
    "        czy_ostatnia = (i == len(galaz_items) - 1)\n",
    "        lacznik = \"└── \" if czy_ostatnia else \"├── \"\n",
    "        print(prefix + lacznik + warunek)\n",
    "        \n",
    "        nowy_prefix = prefix + (\"    \" if czy_ostatnia else \"│   \")\n",
    "        \n",
    "        if isinstance(poddrzewo, dict):\n",
    "            rysuj_wezel(poddrzewo, class_labels, nowy_prefix)\n",
    "        else:\n",
    "            info_liscia = formatuj_info_liscia(poddrzewo, class_labels)\n",
    "            print(nowy_prefix + \"└── \" + info_liscia)"
   ]
  },
  {
   "cell_type": "code",
   "execution_count": 50,
   "id": "e78e5f0f",
   "metadata": {},
   "outputs": [],
   "source": [
    "def wyswietl_drzewo_w_terminalu(drzewo, info_korzenia, class_labels):\n",
    "    \"\"\"Główna funkcja, która rozpoczyna rysowanie drzewa.\"\"\"\n",
    "    print(\"--- Drzewo Decyzyjne ---\")\n",
    "    info_startowe = formatuj_info_liscia(info_korzenia, class_labels).replace(\"LIŚĆ: \", \"START\")\n",
    "    print(info_startowe)\n",
    "    rysuj_wezel(drzewo, class_labels)\n",
    "    print(\"------------------------\")"
   ]
  },
  {
   "cell_type": "code",
   "execution_count": 51,
   "id": "b6f19104",
   "metadata": {},
   "outputs": [],
   "source": [
    "df = pd.read_csv(\"titanic-homework.csv\")\n",
    "df = df.drop([\"PassengerId\",\"Name\"], axis=1)"
   ]
  },
  {
   "cell_type": "code",
   "execution_count": 52,
   "id": "971e2959",
   "metadata": {},
   "outputs": [],
   "source": [
    "przykladowe_S = df[\"Survived\"].values\n",
    "przykladowe_A = df[\"Pclass\"].values"
   ]
  },
  {
   "cell_type": "code",
   "execution_count": 54,
   "id": "0cf8d00f",
   "metadata": {},
   "outputs": [
    {
     "name": "stdout",
     "output_type": "stream",
     "text": [
      "entropia dla tego x: 0.9709505944546686\n",
      "entropia warunkowa dla tych danych: 0.8892782366556033\n",
      "gain dla tych danych: 0.08167235779906523\n",
      "gain ratio: 0.05960489889898008\n"
     ]
    }
   ],
   "source": [
    "przykladowe_S = df[\"Survived\"].values\n",
    "przykladowe_A = df[\"Pclass\"].values\n",
    "print(f\"entropia dla tego x: {obliczanie_entropii(przykladowe_S)}\")\n",
    "print(f\"entropia warunkowa dla tych danych: {obliczanie_entropii_warunkowej(przykladowe_S, przykladowe_A)}\")\n",
    "print(f\"gain dla tych danych: {obliczanie_gain(przykladowe_S, przykladowe_A)}\")\n",
    "print(f\"gain ratio: {obliczanie_gain_ratio(przykladowe_S,przykladowe_A)}\")"
   ]
  },
  {
   "cell_type": "code",
   "execution_count": 55,
   "id": "01c7c4df",
   "metadata": {},
   "outputs": [],
   "source": [
    "kolumna_docelowa = \"Survived\"\n",
    "cechy = [col for col in df.columns if col != kolumna_docelowa]"
   ]
  },
  {
   "cell_type": "code",
   "execution_count": null,
   "id": "ac6ee194",
   "metadata": {},
   "outputs": [],
   "source": [
    "print(f\"Budowanie drzewa\")\n",
    "    \n",
    "zbudowane_drzewo = buduj_drzewo(df, kolumna_docelowa, cechy, etykiety_klas)\n",
    "    \n",
    "info_korzenia_dict = df[kolumna_docelowa].apply(lambda x: etykiety_klas[x]).value_counts().to_dict()\n",
    "info_korzenia = (len(df), info_korzenia_dict)\n",
    "    \n",
    "wyswietl_drzewo_w_terminalu(zbudowane_drzewo, info_korzenia, etykiety_klas)"
   ]
  }
 ],
 "metadata": {
  "kernelspec": {
   "display_name": "myenv",
   "language": "python",
   "name": "python3"
  },
  "language_info": {
   "codemirror_mode": {
    "name": "ipython",
    "version": 3
   },
   "file_extension": ".py",
   "mimetype": "text/x-python",
   "name": "python",
   "nbconvert_exporter": "python",
   "pygments_lexer": "ipython3",
   "version": "3.13.7"
  }
 },
 "nbformat": 4,
 "nbformat_minor": 5
}
