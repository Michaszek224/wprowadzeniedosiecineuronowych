{
 "cells": [
  {
   "cell_type": "code",
   "execution_count": 18,
   "id": "45361aba",
   "metadata": {},
   "outputs": [],
   "source": [
    "import pandas as pd\n",
    "import numpy as np\n",
    "import matplotlib.pyplot as plt"
   ]
  },
  {
   "cell_type": "code",
   "execution_count": 19,
   "id": "c34f4611",
   "metadata": {},
   "outputs": [
    {
     "data": {
      "text/html": [
       "<div>\n",
       "<style scoped>\n",
       "    .dataframe tbody tr th:only-of-type {\n",
       "        vertical-align: middle;\n",
       "    }\n",
       "\n",
       "    .dataframe tbody tr th {\n",
       "        vertical-align: top;\n",
       "    }\n",
       "\n",
       "    .dataframe thead th {\n",
       "        text-align: right;\n",
       "    }\n",
       "</style>\n",
       "<table border=\"1\" class=\"dataframe\">\n",
       "  <thead>\n",
       "    <tr style=\"text-align: right;\">\n",
       "      <th></th>\n",
       "      <th>Pclass</th>\n",
       "      <th>Sex</th>\n",
       "      <th>Age</th>\n",
       "      <th>SibSp</th>\n",
       "      <th>Parch</th>\n",
       "      <th>Survived</th>\n",
       "    </tr>\n",
       "  </thead>\n",
       "  <tbody>\n",
       "    <tr>\n",
       "      <th>0</th>\n",
       "      <td>3</td>\n",
       "      <td>male</td>\n",
       "      <td>22</td>\n",
       "      <td>1</td>\n",
       "      <td>0</td>\n",
       "      <td>0</td>\n",
       "    </tr>\n",
       "    <tr>\n",
       "      <th>1</th>\n",
       "      <td>1</td>\n",
       "      <td>female</td>\n",
       "      <td>38</td>\n",
       "      <td>1</td>\n",
       "      <td>0</td>\n",
       "      <td>1</td>\n",
       "    </tr>\n",
       "    <tr>\n",
       "      <th>2</th>\n",
       "      <td>3</td>\n",
       "      <td>female</td>\n",
       "      <td>26</td>\n",
       "      <td>0</td>\n",
       "      <td>0</td>\n",
       "      <td>1</td>\n",
       "    </tr>\n",
       "    <tr>\n",
       "      <th>3</th>\n",
       "      <td>1</td>\n",
       "      <td>female</td>\n",
       "      <td>35</td>\n",
       "      <td>1</td>\n",
       "      <td>0</td>\n",
       "      <td>1</td>\n",
       "    </tr>\n",
       "    <tr>\n",
       "      <th>4</th>\n",
       "      <td>3</td>\n",
       "      <td>male</td>\n",
       "      <td>35</td>\n",
       "      <td>0</td>\n",
       "      <td>0</td>\n",
       "      <td>0</td>\n",
       "    </tr>\n",
       "    <tr>\n",
       "      <th>...</th>\n",
       "      <td>...</td>\n",
       "      <td>...</td>\n",
       "      <td>...</td>\n",
       "      <td>...</td>\n",
       "      <td>...</td>\n",
       "      <td>...</td>\n",
       "    </tr>\n",
       "    <tr>\n",
       "      <th>95</th>\n",
       "      <td>3</td>\n",
       "      <td>male</td>\n",
       "      <td>44</td>\n",
       "      <td>0</td>\n",
       "      <td>0</td>\n",
       "      <td>0</td>\n",
       "    </tr>\n",
       "    <tr>\n",
       "      <th>96</th>\n",
       "      <td>1</td>\n",
       "      <td>male</td>\n",
       "      <td>71</td>\n",
       "      <td>0</td>\n",
       "      <td>0</td>\n",
       "      <td>0</td>\n",
       "    </tr>\n",
       "    <tr>\n",
       "      <th>97</th>\n",
       "      <td>1</td>\n",
       "      <td>male</td>\n",
       "      <td>23</td>\n",
       "      <td>0</td>\n",
       "      <td>1</td>\n",
       "      <td>1</td>\n",
       "    </tr>\n",
       "    <tr>\n",
       "      <th>98</th>\n",
       "      <td>2</td>\n",
       "      <td>female</td>\n",
       "      <td>34</td>\n",
       "      <td>0</td>\n",
       "      <td>1</td>\n",
       "      <td>1</td>\n",
       "    </tr>\n",
       "    <tr>\n",
       "      <th>99</th>\n",
       "      <td>2</td>\n",
       "      <td>male</td>\n",
       "      <td>34</td>\n",
       "      <td>1</td>\n",
       "      <td>0</td>\n",
       "      <td>0</td>\n",
       "    </tr>\n",
       "  </tbody>\n",
       "</table>\n",
       "<p>100 rows × 6 columns</p>\n",
       "</div>"
      ],
      "text/plain": [
       "    Pclass     Sex  Age  SibSp  Parch  Survived\n",
       "0        3    male   22      1      0         0\n",
       "1        1  female   38      1      0         1\n",
       "2        3  female   26      0      0         1\n",
       "3        1  female   35      1      0         1\n",
       "4        3    male   35      0      0         0\n",
       "..     ...     ...  ...    ...    ...       ...\n",
       "95       3    male   44      0      0         0\n",
       "96       1    male   71      0      0         0\n",
       "97       1    male   23      0      1         1\n",
       "98       2  female   34      0      1         1\n",
       "99       2    male   34      1      0         0\n",
       "\n",
       "[100 rows x 6 columns]"
      ]
     },
     "execution_count": 19,
     "metadata": {},
     "output_type": "execute_result"
    }
   ],
   "source": [
    "df = pd.read_csv(\"titanic-homework.csv\")\n",
    "df = df.drop([\"PassengerId\",\"Name\"], axis=1)\n",
    "df"
   ]
  },
  {
   "cell_type": "code",
   "execution_count": 20,
   "id": "a84e8fc5",
   "metadata": {},
   "outputs": [],
   "source": [
    "def obliczanie_entropii(S):\n",
    "    wystapienia_klasa = np.bincount(S)\n",
    "    prawdopodobienstwo = wystapienia_klasa / len(S)\n",
    "    entropia = 0\n",
    "    for p in prawdopodobienstwo:\n",
    "        if p > 0:\n",
    "            entropia -= p * np.log2(p)\n",
    "    return entropia"
   ]
  },
  {
   "cell_type": "code",
   "execution_count": 21,
   "id": "056049e6",
   "metadata": {},
   "outputs": [
    {
     "name": "stdout",
     "output_type": "stream",
     "text": [
      "entropia dla tego x: 0.9709505944546686\n"
     ]
    }
   ],
   "source": [
    "przykladowe_x = df[\"Survived\"].values\n",
    "print(f\"entropia dla tego x: {obliczanie_entropii(przykladowe_x)}\")"
   ]
  },
  {
   "cell_type": "code",
   "execution_count": 22,
   "id": "54732ff1",
   "metadata": {},
   "outputs": [],
   "source": [
    "def obliczanie_entropii_warunkowej(S, A):\n",
    "    wartosci_A, indeksy = np.unique(A, return_inverse=True)\n",
    "    entropia = 0\n",
    "    \n",
    "    for i in range(len(wartosci_A)):\n",
    "        S_j = np.array(S)[indeksy == i]\n",
    "        waga = len(S_j) / len(S)\n",
    "        entropia += waga * obliczanie_entropii(S_j)\n",
    "    \n",
    "    return entropia\n",
    "    "
   ]
  },
  {
   "cell_type": "code",
   "execution_count": 23,
   "id": "0329860b",
   "metadata": {},
   "outputs": [
    {
     "name": "stdout",
     "output_type": "stream",
     "text": [
      "entropia warunkowa dla tych danych: 0.8892782366556033\n"
     ]
    }
   ],
   "source": [
    "przykladowe_S = df[\"Survived\"].values\n",
    "przykladowe_A = df[\"Pclass\"].values\n",
    "print(f\"entropia warunkowa dla tych danych: {obliczanie_entropii_warunkowej(przykladowe_S, przykladowe_A)}\")"
   ]
  },
  {
   "cell_type": "code",
   "execution_count": 24,
   "id": "a2c4ea92",
   "metadata": {},
   "outputs": [],
   "source": [
    "def obliczanie_gain(S,A):\n",
    "    return obliczanie_entropii(S) - obliczanie_entropii_warunkowej(S,A)"
   ]
  },
  {
   "cell_type": "code",
   "execution_count": 25,
   "id": "0cf584ac",
   "metadata": {},
   "outputs": [
    {
     "name": "stdout",
     "output_type": "stream",
     "text": [
      "gain dla tych danych: 0.08167235779906523\n"
     ]
    }
   ],
   "source": [
    "print(f\"gain dla tych danych: {obliczanie_gain(przykladowe_S, przykladowe_A)}\")"
   ]
  },
  {
   "cell_type": "code",
   "execution_count": null,
   "id": "dc30fdbd",
   "metadata": {},
   "outputs": [],
   "source": [
    "def obliczanie_intrinsic_information(S,A):\n",
    "    wartosci_A, liczebnosci = np.unique(A, return_counts=True)\n",
    "    proporcje = liczebnosci / len(S)\n",
    "    \n",
    "    wartosc = 0\n",
    "    for p in proporcje:\n",
    "        if p > 0:\n",
    "            wartosc -= p * np.log2(p)\n",
    "    return wartosc\n"
   ]
  },
  {
   "cell_type": "code",
   "execution_count": null,
   "id": "645c0248",
   "metadata": {},
   "outputs": [],
   "source": [
    "\n",
    "def obliczanie_gain_ratio(S,A):\n",
    "    "
   ]
  }
 ],
 "metadata": {
  "kernelspec": {
   "display_name": "myenv",
   "language": "python",
   "name": "python3"
  },
  "language_info": {
   "codemirror_mode": {
    "name": "ipython",
    "version": 3
   },
   "file_extension": ".py",
   "mimetype": "text/x-python",
   "name": "python",
   "nbconvert_exporter": "python",
   "pygments_lexer": "ipython3",
   "version": "3.13.7"
  }
 },
 "nbformat": 4,
 "nbformat_minor": 5
}
